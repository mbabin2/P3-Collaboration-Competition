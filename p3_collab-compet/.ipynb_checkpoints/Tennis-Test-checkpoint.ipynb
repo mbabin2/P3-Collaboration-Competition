{
 "cells": [
  {
   "cell_type": "markdown",
   "metadata": {},
   "source": [
    "# Mathias Babin - P3 Collaboration and Competition Testing\n",
    "\n",
    "This is my implementation for solving the P2 Continuous Control project for [Udacity's Deep Reinforcement Learning course](https://www.udacity.com/course/deep-reinforcement-learning-nanodegree--nd893). Details on the project are provided in the **README** for this repository. The purpose of this notebook is to watch a **finished** agent perform in this enviroment. If you wish to **train** an agent for yourself, please go to the **Continuous_Control** notebook included in this repository.\n",
    "\n",
    "\n",
    "### 1. Setting up the Environment\n",
    "\n",
    "The following cells will import various packages and sets up the environment, the first of which gaurentees that both [Unity ML-Agents](https://github.com/Unity-Technologies/ml-agents/blob/master/docs/Installation.md) and [NumPy](http://www.numpy.org/) have been installed correctly."
   ]
  },
  {
   "cell_type": "code",
   "execution_count": 1,
   "metadata": {},
   "outputs": [],
   "source": [
    "from unityagents import UnityEnvironment\n",
    "from agent import Agent\n",
    "\n",
    "from collections import deque\n",
    "import numpy as np\n",
    "import torch\n",
    "import matplotlib.pyplot as plt\n",
    "%matplotlib inline"
   ]
  },
  {
   "cell_type": "markdown",
   "metadata": {},
   "source": [
    "The next cell simply sets up the Enviroment. **_IMPORTANT:_**  If the following cell opens a Unity Window that crashes, this is because the rest of the cells in the project are not being executed fast enough. To avoid this, please select **Restart & Run All** under **Kernal**. This will execute all the cells in the project."
   ]
  },
  {
   "cell_type": "code",
   "execution_count": 2,
   "metadata": {},
   "outputs": [
    {
     "name": "stderr",
     "output_type": "stream",
     "text": [
      "INFO:unityagents:\n",
      "'Academy' started successfully!\n",
      "Unity Academy name: Academy\n",
      "        Number of Brains: 1\n",
      "        Number of External Brains : 1\n",
      "        Lesson number : 0\n",
      "        Reset Parameters :\n",
      "\t\t\n",
      "Unity brain name: TennisBrain\n",
      "        Number of Visual Observations (per agent): 0\n",
      "        Vector Observation space type: continuous\n",
      "        Vector Observation space size (per agent): 8\n",
      "        Number of stacked Vector Observation: 3\n",
      "        Vector Action space type: continuous\n",
      "        Vector Action space size (per agent): 2\n",
      "        Vector Action descriptions: , \n"
     ]
    }
   ],
   "source": [
    "env = UnityEnvironment(file_name=\"Tennis.app\")"
   ]
  },
  {
   "cell_type": "markdown",
   "metadata": {},
   "source": [
    "### 2. Testing the Agent\n",
    "\n",
    "Start by intializing values for the training of the agent, and loading the weights for the agent to use from the *checkpoint_actor_init.pth* and *checkpoint_critic_init.pth* files created by the **Continuous Control** notebook."
   ]
  },
  {
   "cell_type": "code",
   "execution_count": 3,
   "metadata": {},
   "outputs": [],
   "source": [
    "# Get brains from Unity ML\n",
    "brain_name = env.brain_names[0] \n",
    "brain = env.brains[brain_name]\n",
    "\n",
    "env_info = env.reset(train_mode=False)[brain_name] # reset the environment\n",
    "\n",
    "num_agents = len(env_info.agents) # get number of agents\n",
    "\n",
    "action_size = brain.vector_action_space_size # get action size\n",
    "\n",
    "states = env_info.vector_observations\n",
    "state_size = states.shape[1] # get state space size\n",
    "\n",
    "# Initialize agents\n",
    "agents = Agent(state_size=state_size, action_size=action_size, seed=10)\n",
    "\n",
    "# load trained weights\n",
    "agents.actor_local.load_state_dict(torch.load('checkpoint_actor.pth'))\n",
    "agents.critic_local.load_state_dict(torch.load('checkpoint_critic.pth'))"
   ]
  },
  {
   "cell_type": "markdown",
   "metadata": {},
   "source": [
    "Test the smart agents out, and display its final score."
   ]
  },
  {
   "cell_type": "code",
   "execution_count": 4,
   "metadata": {},
   "outputs": [
    {
     "name": "stdout",
     "output_type": "stream",
     "text": [
      "Final score:  1.5000000223517418\n"
     ]
    }
   ],
   "source": [
    "env_info = env.reset(train_mode=False)[brain_name]         \n",
    "states = env_info.vector_observations # Get initial state                \n",
    "score = 0 # score for each episode\n",
    "scores = np.zeros(num_agents) # scores that each agent recieves\n",
    "\n",
    "while True:\n",
    "    action1 = agents.act(states[0]) # action for agent 1\n",
    "    action2 = agents.act(states[1]) # action for agent 2\n",
    "    actions = np.random.randn(num_agents, action_size) # randomize actions\n",
    "    actions[0] = action1 # replace random action with agent 1 action\n",
    "    actions[1] = action2 # replace random action with agent 2 action\n",
    "        \n",
    "    env_info = env.step(actions)[brain_name] # step in the environment\n",
    "    next_states = env_info.vector_observations # get next state\n",
    "    rewards = env_info.rewards # get rewards from taking actions in current state\n",
    "    dones = env_info.local_done # check if done\n",
    "    scores += env_info.rewards # sum rewards as score\n",
    "    states = next_states # prepare for next epsiode by setting a new state\n",
    "    if np.any(dones): # exit if done episode\n",
    "        break\n",
    "\n",
    "score = np.max(scores) # score is largest of two agents\n",
    "print(\"Final score: \", score)"
   ]
  },
  {
   "cell_type": "markdown",
   "metadata": {},
   "source": [
    "Finally close the environment."
   ]
  },
  {
   "cell_type": "code",
   "execution_count": 5,
   "metadata": {},
   "outputs": [],
   "source": [
    "env.close()"
   ]
  },
  {
   "cell_type": "markdown",
   "metadata": {},
   "source": [
    "### 3. Implementation Details\n",
    "\n",
    "If you have any questions about the implementation details of this project please refer to the **Report.pdf** file included with this repository for a full explanation of both the algorithms and design decisions chosen."
   ]
  }
 ],
 "metadata": {
  "kernelspec": {
   "display_name": "drlnd",
   "language": "python",
   "name": "drlnd"
  },
  "language_info": {
   "codemirror_mode": {
    "name": "ipython",
    "version": 3
   },
   "file_extension": ".py",
   "mimetype": "text/x-python",
   "name": "python",
   "nbconvert_exporter": "python",
   "pygments_lexer": "ipython3",
   "version": "3.6.6"
  }
 },
 "nbformat": 4,
 "nbformat_minor": 2
}
